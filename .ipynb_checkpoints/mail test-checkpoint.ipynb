{
 "cells": [
  {
   "cell_type": "code",
   "execution_count": 5,
   "id": "2d9f33f9",
   "metadata": {},
   "outputs": [],
   "source": [
    "import win32com.client\n",
    "import os\n"
   ]
  },
  {
   "cell_type": "code",
   "execution_count": 11,
   "id": "2ea3bed4",
   "metadata": {},
   "outputs": [
    {
     "ename": "IndentationError",
     "evalue": "unexpected indent (<ipython-input-11-129662437907>, line 14)",
     "output_type": "error",
     "traceback": [
      "\u001b[1;36m  File \u001b[1;32m\"<ipython-input-11-129662437907>\"\u001b[1;36m, line \u001b[1;32m14\u001b[0m\n\u001b[1;33m    for x in range(1, num_attach):\u001b[0m\n\u001b[1;37m    ^\u001b[0m\n\u001b[1;31mIndentationError\u001b[0m\u001b[1;31m:\u001b[0m unexpected indent\n"
     ]
    }
   ],
   "source": [
    "\n",
    "outlook = win32com.client.Dispatch(\"Outlook.Application\").GetNamespace(\"MAPI\")\n",
    "inbox = outlook.GetDefaultFolder(6) # \"6\" refers to the index of a folder - in this case the inbox. You can change that number to reference\n",
    "messages = inbox.Items\n",
    "message = messages.GetFirst()\n",
    "subject = message.Subject\n",
    "#\n",
    "get_path = r'C:\\Users\\Admin\\Documents\\email'\n",
    "\n",
    "for m in messages:\n",
    "\n",
    "    print (message)\n",
    "    attachments = message.Attachments\n",
    "    num_attach = len([x for x in attachments])\n",
    "        for x in range(1, num_attach):\n",
    "        attachment = attachments.Item(x)\n",
    "        attachment.SaveASFile(os.path.join(get_path,attachment.FileName))\n",
    "    print (attachment)\n",
    "    message = messages.GetNext()\n"
   ]
  },
  {
   "cell_type": "code",
   "execution_count": null,
   "id": "9a8310cc",
   "metadata": {},
   "outputs": [],
   "source": []
  }
 ],
 "metadata": {
  "kernelspec": {
   "display_name": "Python 3",
   "language": "python",
   "name": "python3"
  },
  "language_info": {
   "codemirror_mode": {
    "name": "ipython",
    "version": 3
   },
   "file_extension": ".py",
   "mimetype": "text/x-python",
   "name": "python",
   "nbconvert_exporter": "python",
   "pygments_lexer": "ipython3",
   "version": "3.8.8"
  }
 },
 "nbformat": 4,
 "nbformat_minor": 5
}
